{
 "cells": [
  {
   "cell_type": "markdown",
   "id": "b653b5b3",
   "metadata": {},
   "source": [
    "### Import libraries"
   ]
  },
  {
   "cell_type": "code",
   "execution_count": 1,
   "id": "1a8d1509",
   "metadata": {},
   "outputs": [],
   "source": [
    "import os\n",
    "import numpy as np\n",
    "\n",
    "import torch\n",
    "import torch.nn as nn\n",
    "import torch.optim as optim\n",
    "import matplotlib.pyplot as plt\n",
    "import random\n",
    "import pickle\n",
    "random.seed(0)\n",
    "np.random.seed(0)\n",
    "torch.manual_seed(0)\n",
    "\n",
    "batch_time=500\n",
    "niters=5000\n",
    "test_freq=50\n",
    "\n",
    "activations = {\n",
    "    'relu':    nn.ReLU(),\n",
    "    'sigmoid': nn.Sigmoid(),\n",
    "    'elu':     nn.ELU(),\n",
    "    'tanh':    nn.Tanh(),\n",
    "    'gelu':    nn.GELU(),\n",
    "    'leaky_relu': nn.LeakyReLU()\n",
    "}\n",
    "\n",
    "device = torch.device('cuda:' + str(gpu) if torch.cuda.is_available() else 'cpu')\n",
    "\n",
    "from misc import preprocessing\n",
    "_ = preprocessing()"
   ]
  },
  {
   "cell_type": "markdown",
   "id": "1983f096",
   "metadata": {},
   "source": [
    "### Import data"
   ]
  },
  {
   "cell_type": "code",
   "execution_count": 2,
   "id": "ca061767",
   "metadata": {},
   "outputs": [],
   "source": [
    "file = './data_1D_hypo_500real'\n",
    "with open(file, 'rb') as f_obj:\n",
    "    data = pickle.load(f_obj)\n",
    "    \n",
    "stress_t,stress_tdt,pl_strain_t,pl_strain_tdt,el_strain_t,el_strain_tdt,strain_t,strain_tdt,energy_t,energy_tdt,dissipation_rate_tdt = data\n",
    "\n",
    "stress_t = np.expand_dims(stress_t,1)\n",
    "stress_tdt = np.expand_dims(stress_tdt,1)\n",
    "pl_strain_t = np.expand_dims(pl_strain_t,1)\n",
    "pl_strain_tdt = np.expand_dims(pl_strain_tdt,1)\n",
    "el_strain_t = np.expand_dims(el_strain_t,1)\n",
    "el_strain_tdt = np.expand_dims(el_strain_tdt,1)\n",
    "strain_t = np.expand_dims(strain_t,1)\n",
    "strain_tdt = np.expand_dims(strain_tdt,1)\n",
    "energy_t = np.expand_dims(energy_t,1)\n",
    "energy_tdt = np.expand_dims(energy_tdt,1)\n",
    "dissipation_rate_tdt = np.expand_dims(dissipation_rate_tdt,1)\n",
    "\n",
    "dstress = stress_tdt - stress_t\n",
    "dstrain = strain_tdt - strain_t\n",
    "dstrain_pl = pl_strain_tdt - pl_strain_t\n",
    "dstrain_el = el_strain_tdt - el_strain_t"
   ]
  },
  {
   "cell_type": "markdown",
   "id": "9e19fe0a",
   "metadata": {},
   "source": [
    "#### Split data in paths (batch_time step for each path)"
   ]
  },
  {
   "cell_type": "code",
   "execution_count": 3,
   "id": "b6e06d11",
   "metadata": {},
   "outputs": [],
   "source": [
    "strain_t = np.reshape(strain_t,(-1,batch_time,1),order='C')[:,:,:,None]\n",
    "strain_tdt = np.reshape(strain_tdt,(-1,batch_time,1),order='C')[:,:,:,None]\n",
    "dstrain = np.reshape(dstrain,(-1,batch_time,1),order='C')[:,:,:,None]\n",
    "\n",
    "pl_strain_t = np.reshape(pl_strain_t,(-1,batch_time,1),order='C')[:,:,:,None]\n",
    "pl_strain_tdt = np.reshape(pl_strain_tdt,(-1,batch_time,1),order='C')[:,:,:,None]\n",
    "dstrain_pl = np.reshape(dstrain_pl,(-1,batch_time,1),order='C')[:,:,:,None]\n",
    "\n",
    "el_strain_t = np.reshape(el_strain_t,(-1,batch_time,1),order='C')[:,:,:,None]\n",
    "el_strain_tdt = np.reshape(el_strain_tdt,(-1,batch_time,1),order='C')[:,:,:,None]\n",
    "dstrain_el = np.reshape(dstrain_el,(-1,batch_time,1),order='C')[:,:,:,None]\n",
    "\n",
    "stress_t = np.reshape(stress_t,(-1,batch_time,1),order='C')[:,:,:,None]\n",
    "stress_tdt = np.reshape(stress_tdt,(-1,batch_time,1),order='C')[:,:,:,None]\n",
    "dstress = np.reshape(dstress,(-1,batch_time,1),order='C')[:,:,:,None]\n",
    "\n",
    "energy_t = np.reshape(energy_t,(-1,batch_time,1),order='C')[:,:,:,None]\n",
    "energy_tdt = np.reshape(energy_tdt,(-1,batch_time,1),order='C')[:,:,:,None]\n",
    "dissipation_rate_tdt = np.reshape(dissipation_rate_tdt,(-1,batch_time,1),order='C')[:,:,:,None]\n",
    "\n",
    "data_size = strain_t.shape[0]"
   ]
  },
  {
   "cell_type": "markdown",
   "id": "ac53a236",
   "metadata": {},
   "source": [
    "#### Split into training, validation, and test sets"
   ]
  },
  {
   "cell_type": "code",
   "execution_count": 4,
   "id": "f731458e",
   "metadata": {},
   "outputs": [
    {
     "name": "stdout",
     "output_type": "stream",
     "text": [
      "Number of samples:  20\n",
      "Training samples :  2\n",
      "Validation samples :  9\n",
      "Test samples :  9\n",
      "Total :  20\n"
     ]
    }
   ],
   "source": [
    "train_percentage = .1\n",
    "\n",
    "ntrain = int(round(data_size * train_percentage))\n",
    "nval = int(round(data_size * 0.5 *(1.- train_percentage)))\n",
    "ntest = nval\n",
    "\n",
    "print(\"Number of samples: \", data_size)\n",
    "print(\"Training samples : \", ntrain)\n",
    "print(\"Validation samples : \", nval)\n",
    "print(\"Test samples : \", ntest)\n",
    "print(\"Total : \", ntest + nval + ntrain)"
   ]
  },
  {
   "cell_type": "code",
   "execution_count": 5,
   "id": "0ca53dc2",
   "metadata": {},
   "outputs": [],
   "source": [
    "strain_t_tv,strain_t_test = _.slice_data(strain_t,ntrain,nval)\n",
    "strain_tdt_tv,strain_tdt_test = _.slice_data(strain_tdt,ntrain,nval)\n",
    "pl_strain_t_tv,pl_strain_t_test = _.slice_data(pl_strain_t,ntrain,nval)\n",
    "pl_strain_tdt_tv,pl_strain_tdt_test = _.slice_data(pl_strain_tdt,ntrain,nval)\n",
    "dstrain_tv,dstrain_test = _.slice_data(dstrain,ntrain,nval)\n",
    "dstrain_pl_tv,dstrain_pl_test = _.slice_data(dstrain_pl,ntrain,nval)\n",
    "\n",
    "stress_t_tv,stress_t_test = _.slice_data(stress_t,ntrain,nval)\n",
    "stress_tdt_tv,stress_tdt_test = _.slice_data(stress_tdt,ntrain,nval)\n",
    "dstress_tv,dstress_test = _.slice_data(dstress,ntrain,nval)\n",
    "\n",
    "energy_t_tv,energy_t_test = _.slice_data(energy_t,ntrain,nval)\n",
    "energy_tdt_tv,energy_tdt_test = _.slice_data(energy_tdt,ntrain,nval)\n",
    "dissipation_rate_tdt_tv,dissipation_rate_tdt_test = _.slice_data(dissipation_rate_tdt,ntrain,nval)"
   ]
  },
  {
   "cell_type": "markdown",
   "id": "a6d66293",
   "metadata": {},
   "source": [
    "#### Compute statistics of the data (for normalization)"
   ]
  },
  {
   "cell_type": "code",
   "execution_count": 6,
   "id": "20cad77c",
   "metadata": {},
   "outputs": [],
   "source": [
    "prm_e = _.GetParams(strain_tdt_tv)\n",
    "prm_de = _.GetParams(dstrain_tv)\n",
    "\n",
    "prm_s = _.GetParams(stress_tdt_tv)\n",
    "prm_ds = _.GetParams(dstress_tv)\n",
    "\n",
    "prm_z = _.GetParams(pl_strain_tdt_tv)\n",
    "prm_dz = _.GetParams(dstrain_pl_tv)\n",
    "\n",
    "prm_f = _.GetParams(energy_tdt_tv)\n",
    "prm_d = _.GetParams(dissipation_rate_tdt_tv)"
   ]
  },
  {
   "cell_type": "markdown",
   "id": "38e66bd9",
   "metadata": {},
   "source": [
    "### TANN "
   ]
  },
  {
   "cell_type": "code",
   "execution_count": 7,
   "id": "4be42f1a",
   "metadata": {},
   "outputs": [],
   "source": [
    "class TANN(nn.Module):\n",
    "\n",
    "    def __init__(self,params_z,params_f,dtype=torch.float32):\n",
    "        super(TANN, self).__init__()\n",
    "        \n",
    "        self.dtype = dtype\n",
    "        i_NNz,o_NNz,h_NNz,act_NNz = params_z\n",
    "        i_NNf,o_NNf,h_NNf,act_NNf = params_f\n",
    "        \n",
    "        \n",
    "        self.NNz = self.constructor(i_NNz,\n",
    "                                    o_NNz,\n",
    "                                    h_NNz,\n",
    "                                    act_NNz)\n",
    "        \n",
    "        self.NNf = self.constructor(i_NNf,\n",
    "                                    o_NNf,\n",
    "                                    h_NNf,\n",
    "                                    act_NNf)\n",
    "        \n",
    "    def constructor(self, i_dim, o_dim, h_dim, act):\n",
    "        dim = i_dim\n",
    "        layers = torch.nn.Sequential()\n",
    "        for hdim in h_dim:\n",
    "            layers.append(nn.Linear(dim, hdim, dtype=self.dtype))\n",
    "            layers.append(activations[act])\n",
    "            dim = hdim\n",
    "        layers.append(nn.Linear(dim, o_dim, dtype=self.dtype))\n",
    "        return layers\n",
    "    \n",
    "    def Normalize(self,inputs,prm):\n",
    "        '''\n",
    "        Normalize features\n",
    "        :inputs : data\n",
    "        :prm : normalization parameters\n",
    "        '''\n",
    "        return torch.divide(torch.add(inputs, -prm[1]), prm[0])\n",
    "    \n",
    "    def DeNormalize(self,outputs,prm):\n",
    "        '''\n",
    "        Denormalize features\n",
    "        :output : dimensionless data\n",
    "        :prm : normalization parameters\n",
    "        '''\n",
    "        return torch.add(torch.multiply(outputs, prm[0]), prm[1])\n",
    "    \n",
    "    def forward(self,inp):\n",
    "        inp = torch.autograd.Variable(inp,requires_grad=True)\n",
    "        n_strain_t, n_pl_strain_t, n_dstrain = inp[:,0,None],inp[:,1,None],inp[:,2,None]\n",
    "        \n",
    "        # Normalize\n",
    "        strain_t = self.DeNormalize(n_strain_t,prm_e)\n",
    "        pl_strain_t = self.DeNormalize(n_pl_strain_t,prm_z)\n",
    "        dstrain = self.DeNormalize(n_dstrain,prm_de)\n",
    "        strain_tdt = strain_t+dstrain\n",
    "        N_strain_tdt = self.Normalize(strain_tdt,prm_e)\n",
    "        \n",
    "        \n",
    "        # Predict evolution law\n",
    "        npl_dstrain = self.NNz(torch.cat((n_strain_t,n_pl_strain_t,n_dstrain),1))\n",
    "        pl_dstrain = self.DeNormalize(npl_dstrain,prm_dz)\n",
    "        pl_strain_tdt = pl_dstrain+pl_strain_t\n",
    "        n_pl_strain_tdt = self.Normalize(pl_strain_tdt,prm_z)\n",
    "        \n",
    "        \n",
    "        # Predict energy, stress, and dissipation rate\n",
    "        n_energy_tdt = self.NNf(torch.cat((n_pl_strain_tdt,N_strain_tdt),1))\n",
    "        energy_tdt = self.DeNormalize(n_energy_tdt,prm_f)\n",
    "        \n",
    "        \n",
    "        \n",
    "        # Stress\n",
    "        stress_tdt = torch.autograd.grad(energy_tdt,strain_tdt,\n",
    "                                     grad_outputs=torch.ones_like(strain_tdt),\n",
    "                                     retain_graph=True,\n",
    "                                     create_graph=True)[0]\n",
    "        n_stress_tdt = self.Normalize(stress_tdt,prm_s)\n",
    "        \n",
    "        # Dissipation rate\n",
    "        thermo_stress = -torch.autograd.grad(energy_tdt,pl_strain_tdt,\n",
    "                                     grad_outputs=torch.ones_like(pl_strain_tdt),\n",
    "                                     retain_graph=True,\n",
    "                                     create_graph=True)[0]\n",
    "        dissipation_tdt = thermo_stress*pl_dstrain\n",
    "        n_dissipation_tdt = self.Normalize(dissipation_tdt,prm_d)\n",
    "        \n",
    "        return torch.cat((npl_dstrain,n_energy_tdt,n_stress_tdt,n_dissipation_tdt),1)"
   ]
  },
  {
   "cell_type": "code",
   "execution_count": 8,
   "id": "b19742d5",
   "metadata": {},
   "outputs": [
    {
     "data": {
      "text/plain": [
       "TANN(\n",
       "  (NNz): Sequential(\n",
       "    (0): Linear(in_features=3, out_features=32, bias=True)\n",
       "    (1): ReLU()\n",
       "    (2): Linear(in_features=32, out_features=32, bias=True)\n",
       "    (3): ReLU()\n",
       "    (4): Linear(in_features=32, out_features=32, bias=True)\n",
       "    (5): ReLU()\n",
       "    (6): Linear(in_features=32, out_features=1, bias=True)\n",
       "  )\n",
       "  (NNf): Sequential(\n",
       "    (0): Linear(in_features=2, out_features=144, bias=True)\n",
       "    (1): GELU(approximate='none')\n",
       "    (2): Linear(in_features=144, out_features=144, bias=True)\n",
       "    (3): GELU(approximate='none')\n",
       "    (4): Linear(in_features=144, out_features=1, bias=True)\n",
       "  )\n",
       ")"
      ]
     },
     "execution_count": 8,
     "metadata": {},
     "output_type": "execute_result"
    }
   ],
   "source": [
    "dtype=torch.float64\n",
    "NNf_params = [3,1,[32,32,32],'relu']\n",
    "NNu_params = [2,1,[144,144],'gelu']\n",
    "TANNnet = TANN(NNf_params,NNu_params,dtype).to(device)\n",
    "TANNnet.to(torch.double)"
   ]
  },
  {
   "cell_type": "markdown",
   "id": "19faab07",
   "metadata": {},
   "source": [
    "### Normalize datasets and assemble inputs and outputs"
   ]
  },
  {
   "cell_type": "code",
   "execution_count": 9,
   "id": "a790533c",
   "metadata": {},
   "outputs": [],
   "source": [
    "strain_t_tv = TANNnet.Normalize(torch.tensor(strain_t_tv),prm_e)\n",
    "strain_tdt_tv = TANNnet.Normalize(torch.tensor(strain_tdt_tv),prm_e)\n",
    "pl_strain_t_tv = TANNnet.Normalize(torch.tensor(pl_strain_t_tv),prm_z)\n",
    "pl_strain_tdt_tv = TANNnet.Normalize(torch.tensor(pl_strain_tdt_tv),prm_z)\n",
    "stress_tdt_tv = TANNnet.Normalize(torch.tensor(stress_tdt_tv),prm_s)\n",
    "\n",
    "energy_tdt_tv = TANNnet.Normalize(torch.tensor(energy_tdt_tv),prm_f)\n",
    "dissipation_rate_tdt_tv = TANNnet.Normalize(torch.tensor(dissipation_rate_tdt_tv),prm_d)\n",
    "\n",
    "dstrain_tv = TANNnet.Normalize(torch.tensor(dstrain_tv),prm_de)\n",
    "dstrain_pl_tv = TANNnet.Normalize(torch.tensor(dstrain_pl_tv),prm_dz)\n",
    "dstress_tv = TANNnet.Normalize(torch.tensor(dstress_tv),prm_ds)\n",
    "\n",
    "strain_t_test = TANNnet.Normalize(torch.tensor(strain_t_test),prm_e)\n",
    "strain_tdt_test = TANNnet.Normalize(torch.tensor(strain_tdt_test),prm_e)\n",
    "pl_strain_t_test = TANNnet.Normalize(torch.tensor(pl_strain_t_test),prm_z)\n",
    "pl_strain_tdt_test = TANNnet.Normalize(torch.tensor(pl_strain_tdt_test),prm_z)\n",
    "stress_tdt_test = TANNnet.Normalize(torch.tensor(stress_tdt_test),prm_s)\n",
    "\n",
    "energy_tdt_test = TANNnet.Normalize(torch.tensor(energy_tdt_test),prm_f)\n",
    "dissipation_rate_tdt_test = TANNnet.Normalize(torch.tensor(dissipation_rate_tdt_test),prm_d)\n",
    "\n",
    "dstrain_test = TANNnet.Normalize(torch.tensor(dstrain_test),prm_de)\n",
    "dstrain_pl_test = TANNnet.Normalize(torch.tensor(dstrain_pl_test),prm_dz)\n",
    "dstress_test = TANNnet.Normalize(torch.tensor(dstress_test),prm_ds)\n"
   ]
  },
  {
   "cell_type": "code",
   "execution_count": 10,
   "id": "b6a2216a",
   "metadata": {},
   "outputs": [],
   "source": [
    "input_tv = torch.cat((strain_t_tv,pl_strain_t_tv,dstrain_tv),-1).to(device)\n",
    "output_tv = torch.cat((dstrain_pl_tv,energy_tdt_tv,stress_tdt_tv,dissipation_rate_tdt_tv),-1).to(device)\n",
    "\n",
    "input_test = torch.cat((strain_t_test,pl_strain_t_test,dstrain_test),-1).to(device)\n",
    "output_test = torch.cat((dstrain_pl_test,energy_tdt_test,stress_tdt_test,dissipation_rate_tdt_test),-1).to(device)"
   ]
  },
  {
   "cell_type": "markdown",
   "id": "ddad3ca5",
   "metadata": {},
   "source": [
    "### Training "
   ]
  },
  {
   "cell_type": "code",
   "execution_count": 13,
   "id": "7f07ff89",
   "metadata": {
    "scrolled": true
   },
   "outputs": [
    {
     "name": "stdout",
     "output_type": "stream",
     "text": [
      "Iteration: 10  Average Loss: 3.753653\n",
      "Iteration: 20  Average Loss: 3.7439678\n",
      "Iteration: 30  Average Loss: 3.7363946\n",
      "Iteration: 40  Average Loss: 3.7303817\n",
      "Iteration: 50  Average Loss: 3.72502\n",
      "Iteration: 60  Average Loss: 3.71993\n",
      "Iteration: 70  Average Loss: 3.7148955\n",
      "Iteration: 80  Average Loss: 3.7097962\n",
      "Iteration: 90  Average Loss: 3.704639\n",
      "Iteration: 100  Average Loss: 3.6993105\n",
      "Iteration: 110  Average Loss: 3.693809\n"
     ]
    },
    {
     "ename": "KeyboardInterrupt",
     "evalue": "",
     "output_type": "error",
     "traceback": [
      "\u001b[0;31m---------------------------------------------------------------------------\u001b[0m",
      "\u001b[0;31mKeyboardInterrupt\u001b[0m                         Traceback (most recent call last)",
      "Cell \u001b[0;32mIn[13], line 29\u001b[0m\n\u001b[1;32m     26\u001b[0m \u001b[39m# loss on dissipation rate\u001b[39;00m\n\u001b[1;32m     27\u001b[0m loss \u001b[39m+\u001b[39m\u001b[39m=\u001b[39m loss_fn(pred[:,\u001b[39m3\u001b[39m],output_tv[i,:,\u001b[39m0\u001b[39m,\u001b[39m3\u001b[39m])\n\u001b[0;32m---> 29\u001b[0m loss\u001b[39m.\u001b[39;49mbackward()\n\u001b[1;32m     30\u001b[0m optimizer\u001b[39m.\u001b[39mstep() \n\u001b[1;32m     31\u001b[0m optimizer\u001b[39m.\u001b[39mzero_grad()\n",
      "File \u001b[0;32m~/miniconda3/envs/pytorch/lib/python3.10/site-packages/torch/_tensor.py:487\u001b[0m, in \u001b[0;36mTensor.backward\u001b[0;34m(self, gradient, retain_graph, create_graph, inputs)\u001b[0m\n\u001b[1;32m    477\u001b[0m \u001b[39mif\u001b[39;00m has_torch_function_unary(\u001b[39mself\u001b[39m):\n\u001b[1;32m    478\u001b[0m     \u001b[39mreturn\u001b[39;00m handle_torch_function(\n\u001b[1;32m    479\u001b[0m         Tensor\u001b[39m.\u001b[39mbackward,\n\u001b[1;32m    480\u001b[0m         (\u001b[39mself\u001b[39m,),\n\u001b[0;32m   (...)\u001b[0m\n\u001b[1;32m    485\u001b[0m         inputs\u001b[39m=\u001b[39minputs,\n\u001b[1;32m    486\u001b[0m     )\n\u001b[0;32m--> 487\u001b[0m torch\u001b[39m.\u001b[39;49mautograd\u001b[39m.\u001b[39;49mbackward(\n\u001b[1;32m    488\u001b[0m     \u001b[39mself\u001b[39;49m, gradient, retain_graph, create_graph, inputs\u001b[39m=\u001b[39;49minputs\n\u001b[1;32m    489\u001b[0m )\n",
      "File \u001b[0;32m~/miniconda3/envs/pytorch/lib/python3.10/site-packages/torch/autograd/__init__.py:200\u001b[0m, in \u001b[0;36mbackward\u001b[0;34m(tensors, grad_tensors, retain_graph, create_graph, grad_variables, inputs)\u001b[0m\n\u001b[1;32m    195\u001b[0m     retain_graph \u001b[39m=\u001b[39m create_graph\n\u001b[1;32m    197\u001b[0m \u001b[39m# The reason we repeat same the comment below is that\u001b[39;00m\n\u001b[1;32m    198\u001b[0m \u001b[39m# some Python versions print out the first line of a multi-line function\u001b[39;00m\n\u001b[1;32m    199\u001b[0m \u001b[39m# calls in the traceback and some print out the last line\u001b[39;00m\n\u001b[0;32m--> 200\u001b[0m Variable\u001b[39m.\u001b[39;49m_execution_engine\u001b[39m.\u001b[39;49mrun_backward(  \u001b[39m# Calls into the C++ engine to run the backward pass\u001b[39;49;00m\n\u001b[1;32m    201\u001b[0m     tensors, grad_tensors_, retain_graph, create_graph, inputs,\n\u001b[1;32m    202\u001b[0m     allow_unreachable\u001b[39m=\u001b[39;49m\u001b[39mTrue\u001b[39;49;00m, accumulate_grad\u001b[39m=\u001b[39;49m\u001b[39mTrue\u001b[39;49;00m)\n",
      "\u001b[0;31mKeyboardInterrupt\u001b[0m: "
     ]
    }
   ],
   "source": [
    "learningRate = 1.e-4\n",
    "optimizer = optim.NAdam(TANNnet.parameters(),\n",
    "                        lr=learningRate)\n",
    "loss_hist = []\n",
    "\n",
    "if not os.path.exists(\"plots\"):\n",
    "    os.makedirs(\"plots\")\n",
    "\n",
    "for itr in range(1, niters + 1):\n",
    "    if itr % test_freq==0:\n",
    "        fig, ax = plt.subplots(figsize=(1.5,1.5))\n",
    "    loss_value = 0.\n",
    "    loss=0.\n",
    "    for i in range(ntrain):\n",
    "        \n",
    "        # Make predictions and backpropagate loss for each path\n",
    "        \n",
    "        pred = TANNnet.forward(input_tv[i,:,0])\n",
    "        \n",
    "        # loss on evolution equation\n",
    "        loss = loss_fn(pred[:,0],output_tv[i,:,0,0])\n",
    "        # loss on energy\n",
    "        loss += loss_fn(pred[:,1],output_tv[i,:,0,1])\n",
    "        # loss on stress\n",
    "        loss += loss_fn(pred[:,2],output_tv[i,:,0,2])\n",
    "        # loss on dissipation rate\n",
    "        loss += loss_fn(pred[:,3],output_tv[i,:,0,3])\n",
    "\n",
    "        loss.backward()\n",
    "        optimizer.step() \n",
    "        optimizer.zero_grad()\n",
    "        \n",
    "        loss_value+=loss.item() \n",
    "        \n",
    "        if itr % test_freq==0:\n",
    "            # Plot stress target values and predictions\n",
    "            ax.plot(strain_t_tv[i,:,0],output_tv[i,:,0,2].cpu().numpy(),color='darkblue',alpha=0.5,linestyle='-',linewidth=0.5)\n",
    "            ax.plot(strain_t_tv[i,:,0],pred.detach()[:,2].cpu().numpy(),color='red')\n",
    "    \n",
    "    loss_hist.append(loss_value)\n",
    "\n",
    "    if itr % 10 == 0: # Print loss every 10 iterations\n",
    "        print(\"Iteration:\", itr, \" Average Loss:\", np.float32(loss_value/ntrain))\n",
    "\n",
    "    if itr % test_freq==0: \n",
    "        plt.savefig(\"plots/plot_\"+str(itr)+\".png\", dpi=300)\n",
    "        plt.close()"
   ]
  },
  {
   "cell_type": "markdown",
   "id": "94b7ec48",
   "metadata": {},
   "source": [
    "#### Plot loss history"
   ]
  },
  {
   "cell_type": "code",
   "execution_count": null,
   "id": "bef6f9fe",
   "metadata": {},
   "outputs": [
    {
     "data": {
      "text/plain": [
       "[]"
      ]
     },
     "execution_count": 12,
     "metadata": {},
     "output_type": "execute_result"
    },
    {
     "data": {
      "image/png": "[encoded data removed]",
      "text/plain": [
       "<Figure size 300x250 with 1 Axes>"
      ]
     },
     "metadata": {},
     "output_type": "display_data"
    }
   ],
   "source": [
    "fig, ax = plt.subplots(figsize=(3.,2.5))\n",
    "ax.loglog(loss_hist,color='darkblue')\n",
    "ax.set_xlabel('epochs')\n",
    "ax.set_ylabel('Loss (-)')\n",
    "plt.plot()"
   ]
  },
  {
   "cell_type": "markdown",
   "id": "2d8fa977",
   "metadata": {},
   "source": [
    "### Model at inference (test set)"
   ]
  },
  {
   "cell_type": "code",
   "execution_count": null,
   "id": "499eb595",
   "metadata": {},
   "outputs": [],
   "source": [
    "# Make predictions for test data\n",
    "for i in range(ntest):        \n",
    "    if i == 0:\n",
    "        pred_test = TANNnet.forward(input_test[i,:,0])\n",
    "        pred_test = pred_test[None,:,:]\n",
    "    else:\n",
    "        pred_test_i = TANNnet.forward(input_test[i,:,0])\n",
    "        pred_test = torch.cat((pred_test,pred_test_i[None,:,:]),0)\n",
    "        \n",
    "pred_test = pred_test.cpu().detach()"
   ]
  },
  {
   "cell_type": "code",
   "execution_count": null,
   "id": "99f44fd2",
   "metadata": {},
   "outputs": [
    {
     "data": {
      "image/png": "[encoded data removed]",
      "text/plain": [
       "<Figure size 300x250 with 1 Axes>"
      ]
     },
     "metadata": {},
     "output_type": "display_data"
    }
   ],
   "source": [
    "fig, ax = plt.subplots(figsize=(3.,2.5))\n",
    "ax.margins(x=0.1, y = 0.1)\n",
    "for i in np.arange(1):\n",
    "    ax.plot(dstrain_test[i,:,:,0],dstrain_pl_test[i,:,0,0],color='red',\n",
    "            alpha=0.5,linewidth=3,label='ref')\n",
    "    ax.plot(dstrain_test[i,:,0],pred_test[i,:,0],alpha=1,linewidth=0,markersize=3,color='darkblue',\n",
    "            marker='o',label='pred',markeredgewidth=0.3, linestyle='-')\n",
    "ax.set_ylabel('$\\dot{\\\\varepsilon}_{pl}$')\n",
    "ax.set_xlabel('$\\dot{\\\\varepsilon}$')\n",
    "plt.tight_layout(pad=1, w_pad=1.5, h_pad=1.5)\n",
    "plt.show()"
   ]
  },
  {
   "cell_type": "code",
   "execution_count": null,
   "id": "945cb88c",
   "metadata": {},
   "outputs": [
    {
     "data": {
      "image/png": "[encoded data removed]",
      "text/plain": [
       "<Figure size 300x250 with 1 Axes>"
      ]
     },
     "metadata": {},
     "output_type": "display_data"
    }
   ],
   "source": [
    "fig, ax = plt.subplots(figsize=(3.,2.5))\n",
    "ax.margins(x=0.1, y = 0.1)\n",
    "for i in np.arange(1):\n",
    "    ax.plot(strain_t_test[i,:,:,0],energy_tdt_test[i,:,0,0],color='red',\n",
    "            alpha=0.5,linewidth=3,label='ref')\n",
    "    ax.plot(strain_t_test[i,:,0],pred_test[i,:,1],alpha=1,linewidth=0,markersize=3,color='darkblue',\n",
    "            marker='o',label='pred',markeredgewidth=0.3, linestyle='-')\n",
    "ax.set_ylabel('$\\psi$')\n",
    "ax.set_xlabel('$\\\\varepsilon$')\n",
    "plt.tight_layout(pad=1, w_pad=1.5, h_pad=1.5)\n",
    "plt.show()"
   ]
  },
  {
   "cell_type": "code",
   "execution_count": null,
   "id": "a9db64a5",
   "metadata": {},
   "outputs": [
    {
     "data": {
      "image/png": "[encoded data removed]",
      "text/plain": [
       "<Figure size 300x250 with 1 Axes>"
      ]
     },
     "metadata": {},
     "output_type": "display_data"
    }
   ],
   "source": [
    "fig, ax = plt.subplots(figsize=(3.,2.5))\n",
    "ax.margins(x=0.1, y = 0.1)\n",
    "for i in np.arange(1):\n",
    "    ax.plot(strain_t_test[i,:,:,0],stress_tdt_test[i,:,0,0],color='red',\n",
    "            alpha=0.5,linewidth=3,label='ref')\n",
    "    ax.plot(strain_t_test[i,:,0],pred_test[i,:,2],alpha=1,linewidth=0,markersize=3,color='darkblue',\n",
    "            marker='o',label='pred',markeredgewidth=0.3, linestyle='-')\n",
    "ax.set_ylabel('$\\sigma$')\n",
    "ax.set_xlabel('$\\\\varepsilon$')\n",
    "plt.tight_layout(pad=1, w_pad=1.5, h_pad=1.5)\n",
    "plt.show()"
   ]
  },
  {
   "cell_type": "code",
   "execution_count": null,
   "id": "1b9ad6a5",
   "metadata": {},
   "outputs": [
    {
     "data": {
      "image/png": "[encoded data removed]",
      "text/plain": [
       "<Figure size 300x250 with 1 Axes>"
      ]
     },
     "metadata": {},
     "output_type": "display_data"
    }
   ],
   "source": [
    "fig, ax = plt.subplots(figsize=(3.,2.5))\n",
    "ax.margins(x=0.1, y = 0.1)\n",
    "for i in np.arange(1):\n",
    "    ax.plot(dstrain_pl_test[i,:,0,0],dissipation_rate_tdt_test[i,:,0,0],color='red',\n",
    "            alpha=0.5,linewidth=3,label='ref')\n",
    "    ax.plot(pred_test[i,:,0],pred_test[i,:,3],alpha=1,linewidth=0,markersize=3,color='darkblue',\n",
    "            marker='o',label='pred',markeredgewidth=0.3, linestyle='-')\n",
    "ax.set_ylabel('$d$')\n",
    "ax.set_xlabel('$\\dot{\\\\varepsilon}_{pl}$')\n",
    "plt.tight_layout(pad=1, w_pad=1.5, h_pad=1.5)\n",
    "plt.show()"
   ]
  },
  {
   "cell_type": "code",
   "execution_count": null,
   "id": "5cdaf171",
   "metadata": {},
   "outputs": [],
   "source": []
  }
 ],
 "metadata": {
  "kernelspec": {
   "display_name": "Python 3 (ipykernel)",
   "language": "python",
   "name": "python3"
  },
  "language_info": {
   "codemirror_mode": {
    "name": "ipython",
    "version": 3
   },
   "file_extension": ".py",
   "mimetype": "text/x-python",
   "name": "python",
   "nbconvert_exporter": "python",
   "pygments_lexer": "ipython3",
   "version": "3.10.10"
  }
 },
 "nbformat": 4,
 "nbformat_minor": 5
}
